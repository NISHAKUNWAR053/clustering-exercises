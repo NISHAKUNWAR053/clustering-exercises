{
 "cells": [
  {
   "cell_type": "markdown",
   "id": "0070f0a2-b2c7-4647-a969-5fba0808418d",
   "metadata": {},
   "source": [
    "# Data wrangling and preparation"
   ]
  },
  {
   "cell_type": "markdown",
   "id": "b664d258-77c8-41ea-a739-160abd194746",
   "metadata": {},
   "source": [
    "# Learning goals:\n",
    "- Acquire sampla data from SQL.\n",
    "- Pin down null value, which null should be represented by 0,\n",
    "- Pin down outliers and decide what to do with them,\n",
    "- Data structure Aggregate as needed so that every row is an observation and each is a variable \n"
   ]
  },
  {
   "cell_type": "markdown",
   "id": "b96ae336-5a6c-4609-a4bb-db4f724b3dbd",
   "metadata": {},
   "source": [
    "# Mall customers"
   ]
  },
  {
   "cell_type": "code",
   "execution_count": 3,
   "id": "1da079a8-da3a-4b14-bc3e-c3a2eacef1c9",
   "metadata": {},
   "outputs": [],
   "source": [
    "# regular imports\n",
    "import pandas as pd\n",
    "import numpy as np\n",
    "import matplotlib.pyplot as plt\n",
    "import seaborn as sns\n",
    "import scipy.stats as stats\n",
    "from env import get_connection"
   ]
  },
  {
   "cell_type": "code",
   "execution_count": 4,
   "id": "32ac5c5c-a864-4cce-ad83-8f500e82cb18",
   "metadata": {},
   "outputs": [],
   "source": [
    "def get_mallcustomer_data():\n",
    "    df = pd.read_sql('SELECT * FROM customers;', get_connection('mall_customers'))\n",
    "    return df.set_index('customer_id')"
   ]
  },
  {
   "cell_type": "code",
   "execution_count": 5,
   "id": "62089e0a-9be8-4f5a-9939-1d2bcedbf21a",
   "metadata": {},
   "outputs": [],
   "source": [
    "df = get_mallcustomer_data()\n"
   ]
  },
  {
   "cell_type": "code",
   "execution_count": 6,
   "id": "033f842f-5792-42ca-b701-67ff1226f9e7",
   "metadata": {},
   "outputs": [
    {
     "data": {
      "text/plain": [
       "pandas.core.frame.DataFrame"
      ]
     },
     "execution_count": 6,
     "metadata": {},
     "output_type": "execute_result"
    }
   ],
   "source": [
    "type(df)"
   ]
  },
  {
   "cell_type": "code",
   "execution_count": 8,
   "id": "22cdd4ba-b250-4594-80e7-f5afa519cd2b",
   "metadata": {},
   "outputs": [
    {
     "data": {
      "text/html": [
       "<div>\n",
       "<style scoped>\n",
       "    .dataframe tbody tr th:only-of-type {\n",
       "        vertical-align: middle;\n",
       "    }\n",
       "\n",
       "    .dataframe tbody tr th {\n",
       "        vertical-align: top;\n",
       "    }\n",
       "\n",
       "    .dataframe thead th {\n",
       "        text-align: right;\n",
       "    }\n",
       "</style>\n",
       "<table border=\"1\" class=\"dataframe\">\n",
       "  <thead>\n",
       "    <tr style=\"text-align: right;\">\n",
       "      <th></th>\n",
       "      <th>count</th>\n",
       "      <th>mean</th>\n",
       "      <th>std</th>\n",
       "      <th>min</th>\n",
       "      <th>25%</th>\n",
       "      <th>50%</th>\n",
       "      <th>75%</th>\n",
       "      <th>max</th>\n",
       "    </tr>\n",
       "  </thead>\n",
       "  <tbody>\n",
       "    <tr>\n",
       "      <th>age</th>\n",
       "      <td>200.0</td>\n",
       "      <td>38.85</td>\n",
       "      <td>13.969007</td>\n",
       "      <td>18.0</td>\n",
       "      <td>28.75</td>\n",
       "      <td>36.0</td>\n",
       "      <td>49.0</td>\n",
       "      <td>70.0</td>\n",
       "    </tr>\n",
       "    <tr>\n",
       "      <th>annual_income</th>\n",
       "      <td>200.0</td>\n",
       "      <td>60.56</td>\n",
       "      <td>26.264721</td>\n",
       "      <td>15.0</td>\n",
       "      <td>41.50</td>\n",
       "      <td>61.5</td>\n",
       "      <td>78.0</td>\n",
       "      <td>137.0</td>\n",
       "    </tr>\n",
       "    <tr>\n",
       "      <th>spending_score</th>\n",
       "      <td>200.0</td>\n",
       "      <td>50.20</td>\n",
       "      <td>25.823522</td>\n",
       "      <td>1.0</td>\n",
       "      <td>34.75</td>\n",
       "      <td>50.0</td>\n",
       "      <td>73.0</td>\n",
       "      <td>99.0</td>\n",
       "    </tr>\n",
       "  </tbody>\n",
       "</table>\n",
       "</div>"
      ],
      "text/plain": [
       "                count   mean        std   min    25%   50%   75%    max\n",
       "age             200.0  38.85  13.969007  18.0  28.75  36.0  49.0   70.0\n",
       "annual_income   200.0  60.56  26.264721  15.0  41.50  61.5  78.0  137.0\n",
       "spending_score  200.0  50.20  25.823522   1.0  34.75  50.0  73.0   99.0"
      ]
     },
     "execution_count": 8,
     "metadata": {},
     "output_type": "execute_result"
    }
   ],
   "source": [
    "df.describe().T"
   ]
  },
  {
   "cell_type": "code",
   "execution_count": 9,
   "id": "021de134-c6f4-41a8-b550-3a402ddc3cad",
   "metadata": {},
   "outputs": [
    {
     "name": "stdout",
     "output_type": "stream",
     "text": [
      "<class 'pandas.core.frame.DataFrame'>\n",
      "Index: 200 entries, 1 to 200\n",
      "Data columns (total 4 columns):\n",
      " #   Column          Non-Null Count  Dtype \n",
      "---  ------          --------------  ----- \n",
      " 0   gender          200 non-null    object\n",
      " 1   age             200 non-null    int64 \n",
      " 2   annual_income   200 non-null    int64 \n",
      " 3   spending_score  200 non-null    int64 \n",
      "dtypes: int64(3), object(1)\n",
      "memory usage: 7.8+ KB\n"
     ]
    }
   ],
   "source": [
    "df.info()"
   ]
  },
  {
   "cell_type": "code",
   "execution_count": 10,
   "id": "d2f32221-76e7-4ab8-9f66-85af58921e14",
   "metadata": {},
   "outputs": [
    {
     "data": {
      "text/plain": [
       "200"
      ]
     },
     "execution_count": 10,
     "metadata": {},
     "output_type": "execute_result"
    }
   ],
   "source": [
    "df.shape[0]"
   ]
  },
  {
   "cell_type": "code",
   "execution_count": 13,
   "id": "4364c7f5-302d-4f86-a7d0-88d80147d385",
   "metadata": {},
   "outputs": [
    {
     "name": "stdout",
     "output_type": "stream",
     "text": [
      "Collecting tabulate\n",
      "  Downloading tabulate-0.9.0-py3-none-any.whl (35 kB)\n",
      "Installing collected packages: tabulate\n",
      "Successfully installed tabulate-0.9.0\n",
      "Note: you may need to restart the kernel to use updated packages.\n"
     ]
    }
   ],
   "source": [
    "pip install tabulate"
   ]
  },
  {
   "cell_type": "code",
   "execution_count": 11,
   "id": "1b7fba0c-cd61-418b-a98a-5e4b8c6a3a42",
   "metadata": {},
   "outputs": [],
   "source": [
    "def nulls_by_col(df):\n",
    "    num_missing = df.isnull().sum()\n",
    "    rows = df.shape[0]\n",
    "    prcnt_miss = num_missing / rows * 100\n",
    "    cols_missing = pd.DataFrame({'num_rows_missing': num_missing, 'percent_rows_missing': prcnt_miss})\n",
    "    return cols_missing\n",
    "\n",
    "def nulls_by_row(df):\n",
    "    num_missing = df.isnull().sum(axis=1)\n",
    "    prcnt_miss = num_missing / df.shape[1] * 100\n",
    "    rows_missing = pd.DataFrame({'num_cols_missing': num_missing, 'percent_cols_missing': prcnt_miss})\\\n",
    "    .reset_index()\\\n",
    "    .groupby(['num_cols_missing', 'percent_cols_missing']).count()\\\n",
    "    .rename(index=str, columns={'customer_id': 'num_rows'}).reset_index()\n",
    "    return rows_missing"
   ]
  },
  {
   "cell_type": "code",
   "execution_count": 14,
   "id": "1179dd2b-3230-45a2-a8ce-633ce0e95e1f",
   "metadata": {},
   "outputs": [
    {
     "name": "stdout",
     "output_type": "stream",
     "text": [
      "|    |   num_cols_missing |   percent_cols_missing |   num_rows |\n",
      "|---:|-------------------:|-----------------------:|-----------:|\n",
      "|  0 |                  0 |                      0 |        200 |\n"
     ]
    }
   ],
   "source": [
    "print(nulls_by_row(df).to_markdown())\n"
   ]
  },
  {
   "cell_type": "code",
   "execution_count": 15,
   "id": "de0e52d0-3ea6-4c6e-bdc4-6dd8fd8b97e9",
   "metadata": {},
   "outputs": [],
   "source": [
    "def summarize(df):\n",
    "    \n",
    "    print('=====================================================\\n\\n')\n",
    "    print('Dataframe head: ')\n",
    "    print(df.head(3).to_markdown())\n",
    "    print('=====================================================\\n\\n')\n",
    "    print('Dataframe info: ')\n",
    "    print(df.info())\n",
    "    print('=====================================================\\n\\n')\n",
    "    print('Dataframe Description: ')\n",
    "    print(df.describe().to_markdown())\n",
    "    num_cols = [col for col in df.columns if df[col].dtype != 'O']\n",
    "    cat_cols = [col for col in df.columns if col not in num_cols]\n",
    "    print('=====================================================')\n",
    "    print('DataFrame value counts: ')\n",
    "    for col in df.columns:\n",
    "        if col in cat_cols:\n",
    "            print(df[col].value_counts())\n",
    "        else:\n",
    "            print(df[col].value_counts(bins=10, sort=False))\n",
    "    print('=====================================================')\n",
    "    print('nulls in dataframe by column: ')\n",
    "    print(nulls_by_col(df))\n",
    "    print('=====================================================')\n",
    "    print('nulls in dataframe by row: ')\n",
    "    print(nulls_by_row(df))\n",
    "    print('=====================================================')\n"
   ]
  },
  {
   "cell_type": "code",
   "execution_count": 16,
   "id": "ac3b7d5e-80ea-4267-91ba-d0481801f4b7",
   "metadata": {},
   "outputs": [
    {
     "name": "stdout",
     "output_type": "stream",
     "text": [
      "=====================================================\n",
      "\n",
      "\n",
      "Dataframe head: \n",
      "|   customer_id | gender   |   age |   annual_income |   spending_score |\n",
      "|--------------:|:---------|------:|----------------:|-----------------:|\n",
      "|             1 | Male     |    19 |              15 |               39 |\n",
      "|             2 | Male     |    21 |              15 |               81 |\n",
      "|             3 | Female   |    20 |              16 |                6 |\n",
      "=====================================================\n",
      "\n",
      "\n",
      "Dataframe info: \n",
      "<class 'pandas.core.frame.DataFrame'>\n",
      "Index: 200 entries, 1 to 200\n",
      "Data columns (total 4 columns):\n",
      " #   Column          Non-Null Count  Dtype \n",
      "---  ------          --------------  ----- \n",
      " 0   gender          200 non-null    object\n",
      " 1   age             200 non-null    int64 \n",
      " 2   annual_income   200 non-null    int64 \n",
      " 3   spending_score  200 non-null    int64 \n",
      "dtypes: int64(3), object(1)\n",
      "memory usage: 7.8+ KB\n",
      "None\n",
      "=====================================================\n",
      "\n",
      "\n",
      "Dataframe Description: \n",
      "|       |     age |   annual_income |   spending_score |\n",
      "|:------|--------:|----------------:|-----------------:|\n",
      "| count | 200     |        200      |         200      |\n",
      "| mean  |  38.85  |         60.56   |          50.2    |\n",
      "| std   |  13.969 |         26.2647 |          25.8235 |\n",
      "| min   |  18     |         15      |           1      |\n",
      "| 25%   |  28.75  |         41.5    |          34.75   |\n",
      "| 50%   |  36     |         61.5    |          50      |\n",
      "| 75%   |  49     |         78      |          73      |\n",
      "| max   |  70     |        137      |          99      |\n",
      "=====================================================\n",
      "DataFrame value counts: \n",
      "gender\n",
      "Female    112\n",
      "Male       88\n",
      "Name: count, dtype: int64\n",
      "age\n",
      "(17.947, 23.2]    31\n",
      "(23.2, 28.4]      19\n",
      "(28.4, 33.6]      34\n",
      "(33.6, 38.8]      29\n",
      "(38.8, 44.0]      18\n",
      "(44.0, 49.2]      24\n",
      "(49.2, 54.4]      15\n",
      "(54.4, 59.6]      10\n",
      "(59.6, 64.8]       6\n",
      "(64.8, 70.0]      14\n",
      "Name: count, dtype: int64\n",
      "annual_income\n",
      "(14.877, 27.2]    24\n",
      "(27.2, 39.4]      22\n",
      "(39.4, 51.6]      28\n",
      "(51.6, 63.8]      38\n",
      "(63.8, 76.0]      32\n",
      "(76.0, 88.2]      34\n",
      "(88.2, 100.4]      8\n",
      "(100.4, 112.6]     6\n",
      "(112.6, 124.8]     4\n",
      "(124.8, 137.0]     4\n",
      "Name: count, dtype: int64\n",
      "spending_score\n",
      "(0.901, 10.8]    16\n",
      "(10.8, 20.6]     20\n",
      "(20.6, 30.4]     10\n",
      "(30.4, 40.2]     17\n",
      "(40.2, 50.0]     40\n",
      "(50.0, 59.8]     32\n",
      "(59.8, 69.6]     11\n",
      "(69.6, 79.4]     24\n",
      "(79.4, 89.2]     14\n",
      "(89.2, 99.0]     16\n",
      "Name: count, dtype: int64\n",
      "=====================================================\n",
      "nulls in dataframe by column: \n",
      "                num_rows_missing  percent_rows_missing\n",
      "gender                         0                   0.0\n",
      "age                            0                   0.0\n",
      "annual_income                  0                   0.0\n",
      "spending_score                 0                   0.0\n",
      "=====================================================\n",
      "nulls in dataframe by row: \n",
      "  num_cols_missing percent_cols_missing  num_rows\n",
      "0                0                  0.0       200\n",
      "=====================================================\n"
     ]
    }
   ],
   "source": [
    "summarize(df)\n"
   ]
  },
  {
   "cell_type": "code",
   "execution_count": 17,
   "id": "69378f79-68e1-4d45-aa78-bb92667ca015",
   "metadata": {},
   "outputs": [
    {
     "data": {
      "image/png": "[encoded data removed]",
      "text/plain": [
       "<Figure size 640x480 with 4 Axes>"
      ]
     },
     "metadata": {},
     "output_type": "display_data"
    }
   ],
   "source": [
    "df.hist()\n",
    "plt.tight_layout()\n",
    "plt.show()"
   ]
  },
  {
   "cell_type": "code",
   "execution_count": 18,
   "id": "69c4a15b-aee2-45c0-aa48-612c8c37f978",
   "metadata": {},
   "outputs": [],
   "source": [
    "def remove_columns(df, cols_to_remove):\n",
    "    df = df.drop(columns=cols_to_remove)\n",
    "    return df"
   ]
  },
  {
   "cell_type": "code",
   "execution_count": 19,
   "id": "4a48d1f3-1309-4a95-989f-fedb18dae158",
   "metadata": {},
   "outputs": [],
   "source": [
    "def handle_missing_values(df, prop_required_columns=0.5, prop_required_row=0.75):\n",
    "    threshold = int(round(prop_required_columns * len(df.index), 0))\n",
    "    df = df.dropna(axis=1, thresh=threshold)\n",
    "    threshold = int(round(prop_required_row * len(df.columns), 0))\n",
    "    df = df.dropna(axis=0, thresh=threshold)\n",
    "    return df"
   ]
  },
  {
   "cell_type": "code",
   "execution_count": 20,
   "id": "dcbdec7c-4dde-4844-895a-527e0b58c22c",
   "metadata": {},
   "outputs": [],
   "source": [
    "# combining everything in a cleaning function:\n",
    "\n",
    "def data_prep(df, cols_to_remove=[], prop_required_column=0.5, prop_required_row=0.75):\n",
    "    df = remove_columns(df, cols_to_remove)\n",
    "    df = handle_missing_values(df, prop_required_column, prop_required_row)\n",
    "    return df"
   ]
  },
  {
   "cell_type": "code",
   "execution_count": 21,
   "id": "be86f6a0-f62d-4d67-874b-40312cb9d194",
   "metadata": {},
   "outputs": [],
   "source": [
    "df = data_prep(df)\n"
   ]
  },
  {
   "cell_type": "code",
   "execution_count": 22,
   "id": "27e23779-0644-4b79-b534-a009f4088f00",
   "metadata": {},
   "outputs": [
    {
     "name": "stdout",
     "output_type": "stream",
     "text": [
      "<class 'pandas.core.frame.DataFrame'>\n",
      "Index: 200 entries, 1 to 200\n",
      "Data columns (total 4 columns):\n",
      " #   Column          Non-Null Count  Dtype \n",
      "---  ------          --------------  ----- \n",
      " 0   gender          200 non-null    object\n",
      " 1   age             200 non-null    int64 \n",
      " 2   annual_income   200 non-null    int64 \n",
      " 3   spending_score  200 non-null    int64 \n",
      "dtypes: int64(3), object(1)\n",
      "memory usage: 7.8+ KB\n"
     ]
    }
   ],
   "source": [
    "df.info()"
   ]
  },
  {
   "cell_type": "code",
   "execution_count": 23,
   "id": "2e3a9762-9f1d-4406-b1b0-9a491c75147d",
   "metadata": {},
   "outputs": [],
   "source": [
    "# to utilize tukeys method:\n",
    "# calculate iqr:\n",
    "# get Q3 and Q1, get difference (q3 - q1)\n",
    "# establish fences: \n",
    "## standard inner fence: 1.5\n",
    "## standard outer fence: 3\n",
    "# upper bound: q3 + k * iqr\n",
    "# lower bound: q1 - k * iqr\n"
   ]
  },
  {
   "cell_type": "code",
   "execution_count": 24,
   "id": "478f1c6a-22d7-4188-a361-ff570ba81901",
   "metadata": {},
   "outputs": [],
   "source": [
    "def get_upper_outliers(s, k=1.5):\n",
    "    q1, q3 = s.quantile([.25, 0.75])\n",
    "    iqr = q3 - q1\n",
    "    upper_bound = q3 + k * iqr\n",
    "    return s.apply(lambda x: max([x - upper_bound, 0]))"
   ]
  },
  {
   "cell_type": "code",
   "execution_count": 25,
   "id": "809c4ad1-4bb9-4940-9934-1d3bfb32a9ee",
   "metadata": {},
   "outputs": [],
   "source": [
    "def add_upper_outlier_columns(df, k=1.5):\n",
    "    for col in df.select_dtypes('number'):\n",
    "        df[col + '_outliers_upper'] = get_upper_outliers(df[col], k)\n",
    "    return df"
   ]
  },
  {
   "cell_type": "code",
   "execution_count": 26,
   "id": "9cfd1d52-197e-49be-98a9-398443f397fc",
   "metadata": {},
   "outputs": [
    {
     "data": {
      "text/html": [
       "<div>\n",
       "<style scoped>\n",
       "    .dataframe tbody tr th:only-of-type {\n",
       "        vertical-align: middle;\n",
       "    }\n",
       "\n",
       "    .dataframe tbody tr th {\n",
       "        vertical-align: top;\n",
       "    }\n",
       "\n",
       "    .dataframe thead th {\n",
       "        text-align: right;\n",
       "    }\n",
       "</style>\n",
       "<table border=\"1\" class=\"dataframe\">\n",
       "  <thead>\n",
       "    <tr style=\"text-align: right;\">\n",
       "      <th></th>\n",
       "      <th>gender</th>\n",
       "      <th>age</th>\n",
       "      <th>annual_income</th>\n",
       "      <th>spending_score</th>\n",
       "      <th>age_outliers_upper</th>\n",
       "      <th>annual_income_outliers_upper</th>\n",
       "      <th>spending_score_outliers_upper</th>\n",
       "    </tr>\n",
       "    <tr>\n",
       "      <th>customer_id</th>\n",
       "      <th></th>\n",
       "      <th></th>\n",
       "      <th></th>\n",
       "      <th></th>\n",
       "      <th></th>\n",
       "      <th></th>\n",
       "      <th></th>\n",
       "    </tr>\n",
       "  </thead>\n",
       "  <tbody>\n",
       "    <tr>\n",
       "      <th>1</th>\n",
       "      <td>Male</td>\n",
       "      <td>19</td>\n",
       "      <td>15</td>\n",
       "      <td>39</td>\n",
       "      <td>0</td>\n",
       "      <td>0.0</td>\n",
       "      <td>0</td>\n",
       "    </tr>\n",
       "    <tr>\n",
       "      <th>2</th>\n",
       "      <td>Male</td>\n",
       "      <td>21</td>\n",
       "      <td>15</td>\n",
       "      <td>81</td>\n",
       "      <td>0</td>\n",
       "      <td>0.0</td>\n",
       "      <td>0</td>\n",
       "    </tr>\n",
       "    <tr>\n",
       "      <th>3</th>\n",
       "      <td>Female</td>\n",
       "      <td>20</td>\n",
       "      <td>16</td>\n",
       "      <td>6</td>\n",
       "      <td>0</td>\n",
       "      <td>0.0</td>\n",
       "      <td>0</td>\n",
       "    </tr>\n",
       "    <tr>\n",
       "      <th>4</th>\n",
       "      <td>Female</td>\n",
       "      <td>23</td>\n",
       "      <td>16</td>\n",
       "      <td>77</td>\n",
       "      <td>0</td>\n",
       "      <td>0.0</td>\n",
       "      <td>0</td>\n",
       "    </tr>\n",
       "    <tr>\n",
       "      <th>5</th>\n",
       "      <td>Female</td>\n",
       "      <td>31</td>\n",
       "      <td>17</td>\n",
       "      <td>40</td>\n",
       "      <td>0</td>\n",
       "      <td>0.0</td>\n",
       "      <td>0</td>\n",
       "    </tr>\n",
       "  </tbody>\n",
       "</table>\n",
       "</div>"
      ],
      "text/plain": [
       "             gender  age  annual_income  spending_score  age_outliers_upper  \\\n",
       "customer_id                                                                   \n",
       "1              Male   19             15              39                   0   \n",
       "2              Male   21             15              81                   0   \n",
       "3            Female   20             16               6                   0   \n",
       "4            Female   23             16              77                   0   \n",
       "5            Female   31             17              40                   0   \n",
       "\n",
       "             annual_income_outliers_upper  spending_score_outliers_upper  \n",
       "customer_id                                                               \n",
       "1                                     0.0                              0  \n",
       "2                                     0.0                              0  \n",
       "3                                     0.0                              0  \n",
       "4                                     0.0                              0  \n",
       "5                                     0.0                              0  "
      ]
     },
     "execution_count": 26,
     "metadata": {},
     "output_type": "execute_result"
    }
   ],
   "source": [
    "df = add_upper_outlier_columns(df)\n",
    "df.head()"
   ]
  },
  {
   "cell_type": "code",
   "execution_count": 27,
   "id": "dbf4a252-018d-4479-9398-fd01f214836c",
   "metadata": {},
   "outputs": [
    {
     "name": "stdout",
     "output_type": "stream",
     "text": [
      "age_outliers_upper : \n",
      "count    0.0\n",
      "mean     NaN\n",
      "std      NaN\n",
      "min      NaN\n",
      "25%      NaN\n",
      "50%      NaN\n",
      "75%      NaN\n",
      "max      NaN\n",
      "Name: age_outliers_upper, dtype: float64\n",
      "annual_income_outliers_upper : \n",
      "count    2.00\n",
      "mean     4.25\n",
      "std      0.00\n",
      "min      4.25\n",
      "25%      4.25\n",
      "50%      4.25\n",
      "75%      4.25\n",
      "max      4.25\n",
      "Name: annual_income_outliers_upper, dtype: float64\n",
      "spending_score_outliers_upper : \n",
      "count    0.0\n",
      "mean     NaN\n",
      "std      NaN\n",
      "min      NaN\n",
      "25%      NaN\n",
      "50%      NaN\n",
      "75%      NaN\n",
      "max      NaN\n",
      "Name: spending_score_outliers_upper, dtype: float64\n"
     ]
    }
   ],
   "source": [
    "outlier_cols = [col for col in df.columns if col.endswith('_outliers_upper')]\n",
    "for col in outlier_cols:\n",
    "    print(col, ': ')\n",
    "    subset = df[col][df[col] > 0]\n",
    "    print(subset.describe())"
   ]
  },
  {
   "cell_type": "code",
   "execution_count": 28,
   "id": "bc6131b5-5575-43ce-9506-91c6e14036a3",
   "metadata": {},
   "outputs": [],
   "source": [
    "# we have:\n",
    "# in an organized fashion:\n",
    "# acquired our data\n",
    "# examined the structure and integrity of the data\n",
    "# we hav observed descriptive statistics (univariate)\n",
    "# we have examined null values in a nuanced fashion\n",
    "# we have examined where our outliers live and assessed how we want to approach them\n",
    " # (Takeaway: our outliers exist in income, they appear to be valid and I will not \n",
    "    # drop them at this time)\n"
   ]
  },
  {
   "cell_type": "code",
   "execution_count": null,
   "id": "a13ddb54-56d2-4ca7-ac03-88f5518e7822",
   "metadata": {},
   "outputs": [],
   "source": []
  }
 ],
 "metadata": {
  "kernelspec": {
   "display_name": "Python 3 (ipykernel)",
   "language": "python",
   "name": "python3"
  },
  "language_info": {
   "codemirror_mode": {
    "name": "ipython",
    "version": 3
   },
   "file_extension": ".py",
   "mimetype": "text/x-python",
   "name": "python",
   "nbconvert_exporter": "python",
   "pygments_lexer": "ipython3",
   "version": "3.10.12"
  }
 },
 "nbformat": 4,
 "nbformat_minor": 5
}
